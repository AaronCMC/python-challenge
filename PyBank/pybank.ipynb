{
 "cells": [
  {
   "cell_type": "code",
   "execution_count": 4,
   "metadata": {},
   "outputs": [
    {
     "name": "stdout",
     "output_type": "stream",
     "text": [
      "Financial Analysis\n",
      "-----------------------------------------------------\n",
      "Total Months: 86\n",
      "Total: $22564198\n",
      "Average Change: $-8311.11\n",
      "Greatest Increase in Profits: Aug-16 ($1862002)\n",
      "Greatest Decrease in Profits: Feb-14 ($-1825558)\n"
     ]
    }
   ],
   "source": [
    "# import os module to create file paths across operating systems\n",
    "import os\n",
    "\n",
    "# import module for reading csv files\n",
    "import csv\n",
    "\n",
    "# set path\n",
    "csvpath = os.path.join('Resources', 'budget_data.csv')\n",
    "\n",
    "# read csv\n",
    "monthly_pl = []\n",
    "\n",
    "with open(csvpath) as csvfile:\n",
    "    csvreader = csv.reader(csvfile, delimiter=',')\n",
    "    \n",
    "    csv_header = next(csvreader)\n",
    "    \n",
    "    for row in csvreader:\n",
    "        monthly_pl.append(row)\n",
    "        \n",
    "# determine total months & net total profit/loss\n",
    "months = []\n",
    "profit_loss = []\n",
    "\n",
    "for month in monthly_pl:\n",
    "    months.append(month[0])\n",
    "    profit_loss.append(int(month[1]))\n",
    "\n",
    "total_months = len(months)\n",
    "total_amount = sum(profit_loss)\n",
    "\n",
    "# determine average revenue change, and greatest increase & decrease in profits\n",
    "pl_flux = []\n",
    "\n",
    "for i in range(1, len(profit_loss)):\n",
    "    pl_flux.append(profit_loss[i] - profit_loss[i-1])\n",
    "\n",
    "avg_flux = sum(pl_flux) / len(pl_flux)\n",
    "\n",
    "greatest_increase_month = months[pl_flux.index(max(pl_flux)) + 1]\n",
    "greatest_increase_profit = max(pl_flux)\n",
    "greatest_decrease_month = months[pl_flux.index(min(pl_flux)) + 1]\n",
    "greatest_decrease_profit = min(pl_flux)\n",
    "\n",
    "# print to terminal\n",
    "print(\"Financial Analysis\")\n",
    "print(\"-----------------------------------------------------\")\n",
    "print(f\"Total Months: {total_months}\")\n",
    "print(f\"Total: ${total_amount}\")\n",
    "print(f\"Average Change: ${avg_flux: .2f}\")\n",
    "print(f\"Greatest Increase in Profits: {greatest_increase_month} (${greatest_increase_profit})\")\n",
    "print(f\"Greatest Decrease in Profits: {greatest_decrease_month} (${greatest_decrease_profit})\")\n",
    "\n",
    "# write .txt file\n",
    "txt_path = os.path.join('analysis', 'PyBank_results.txt')\n",
    "\n",
    "with open(txt_path, 'w') as txtfile:\n",
    "    txtfile.write(\"Financial Analysis\" + \"\\n\")\n",
    "    txtfile.write(\"-----------------------------------------------------\" + \"\\n\")\n",
    "    txtfile.write(f\"Total Months: {total_months}\" + \"\\n\")\n",
    "    txtfile.write(f\"Total: ${total_amount}\" + \"\\n\")\n",
    "    txtfile.write(f\"Average Change: ${avg_flux: .2f}\" + \"\\n\")\n",
    "    txtfile.write(f\"Greatest Increase in Profits: {greatest_increase_month} (${greatest_increase_profit})\" + \"\\n\")\n",
    "    txtfile.write(f\"Greatest Decrease in Profits: {greatest_decrease_month} (${greatest_decrease_profit})\")\n"
   ]
  }
 ],
 "metadata": {
  "kernelspec": {
   "display_name": "base",
   "language": "python",
   "name": "python3"
  },
  "language_info": {
   "codemirror_mode": {
    "name": "ipython",
    "version": 3
   },
   "file_extension": ".py",
   "mimetype": "text/x-python",
   "name": "python",
   "nbconvert_exporter": "python",
   "pygments_lexer": "ipython3",
   "version": "3.12.4"
  }
 },
 "nbformat": 4,
 "nbformat_minor": 2
}
